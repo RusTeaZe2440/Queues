{
 "cells": [
  {
   "cell_type": "code",
   "execution_count": 1,
   "metadata": {},
   "outputs": [],
   "source": [
    "class Node:\n",
    "    def __init__(self,val) -> None:\n",
    "        self.val = val\n",
    "        self.next = None"
   ]
  },
  {
   "cell_type": "code",
   "execution_count": 51,
   "metadata": {},
   "outputs": [],
   "source": [
    "class Queue:\n",
    "    def __init__(self) -> None:\n",
    "        self.front = None\n",
    "        self.rear = None\n",
    "        self.size = 0\n",
    "    \n",
    "    ## Time complexity O(1)\n",
    "    def __len__(self):\n",
    "        return self.size\n",
    "    \n",
    "    ## Time complexity O(n)\n",
    "    def __str__(self):\n",
    "        curr = self.front\n",
    "        elements = []\n",
    "        while curr:\n",
    "            elements.append(str(curr.val))\n",
    "            curr = curr.next\n",
    "        return str(','.join(elements))\n",
    "\n",
    "    ## Time complexity O(1)\n",
    "    def enqueue(self,value):\n",
    "        new_node = Node(value)\n",
    "        if self.rear is None:\n",
    "            self.front = self.rear = new_node\n",
    "            self.size += 1\n",
    "        else:\n",
    "            self.rear.next = new_node\n",
    "            self.rear = new_node\n",
    "            self.size += 1\n",
    "\n",
    "    ## Time complexity O(1)\n",
    "    def dequeue(self):\n",
    "        if self.front is None:\n",
    "            return \"Empty Queue\"\n",
    "        else:\n",
    "            data = self.front.val\n",
    "            self.front = self.front.next\n",
    "            self.size -= 1\n",
    "            return data\n",
    "    \n",
    "    ## Time complexity O(1)\n",
    "    def right_peek(self):\n",
    "        if self.rear is None:\n",
    "            return 'No item in Queue'\n",
    "        else:\n",
    "            return self.rear.val\n",
    "        \n",
    "    ## Time complexity O(1)\n",
    "    def left_peek(self):\n",
    "        if self.front is None:\n",
    "            return 'No item in Queue'\n",
    "        else:\n",
    "            return self.front.val\n",
    "        \n",
    "    def is_empty(self):\n",
    "        return self.front == None\n",
    "                "
   ]
  },
  {
   "cell_type": "code",
   "execution_count": 59,
   "metadata": {},
   "outputs": [
    {
     "data": {
      "text/plain": [
       "0"
      ]
     },
     "execution_count": 59,
     "metadata": {},
     "output_type": "execute_result"
    }
   ],
   "source": [
    "q = Queue()\n",
    "len(q)"
   ]
  },
  {
   "cell_type": "code",
   "execution_count": 60,
   "metadata": {},
   "outputs": [
    {
     "name": "stdout",
     "output_type": "stream",
     "text": [
      "10,11,12,13,14\n"
     ]
    }
   ],
   "source": [
    "q.enqueue(10)\n",
    "q.enqueue(11)\n",
    "q.enqueue(12)\n",
    "q.enqueue(13)\n",
    "q.enqueue(14)\n",
    "print(q)"
   ]
  },
  {
   "cell_type": "code",
   "execution_count": 61,
   "metadata": {},
   "outputs": [
    {
     "name": "stdout",
     "output_type": "stream",
     "text": [
      "11,12,13,14\n"
     ]
    }
   ],
   "source": [
    "q.dequeue()\n",
    "print(q)"
   ]
  },
  {
   "cell_type": "code",
   "execution_count": 62,
   "metadata": {},
   "outputs": [
    {
     "data": {
      "text/plain": [
       "14"
      ]
     },
     "execution_count": 62,
     "metadata": {},
     "output_type": "execute_result"
    }
   ],
   "source": [
    "q.right_peek()"
   ]
  },
  {
   "cell_type": "code",
   "execution_count": 63,
   "metadata": {},
   "outputs": [
    {
     "data": {
      "text/plain": [
       "11"
      ]
     },
     "execution_count": 63,
     "metadata": {},
     "output_type": "execute_result"
    }
   ],
   "source": [
    "q.left_peek()"
   ]
  },
  {
   "cell_type": "code",
   "execution_count": 65,
   "metadata": {},
   "outputs": [
    {
     "data": {
      "text/plain": [
       "False"
      ]
     },
     "execution_count": 65,
     "metadata": {},
     "output_type": "execute_result"
    }
   ],
   "source": [
    "q.is_empty()"
   ]
  },
  {
   "cell_type": "code",
   "execution_count": 67,
   "metadata": {},
   "outputs": [
    {
     "name": "stdout",
     "output_type": "stream",
     "text": [
      "\n"
     ]
    }
   ],
   "source": [
    "q.dequeue()\n",
    "q.dequeue()\n",
    "q.dequeue()\n",
    "q.dequeue()\n",
    "print(q)"
   ]
  },
  {
   "cell_type": "code",
   "execution_count": 68,
   "metadata": {},
   "outputs": [
    {
     "data": {
      "text/plain": [
       "'Empty Queue'"
      ]
     },
     "execution_count": 68,
     "metadata": {},
     "output_type": "execute_result"
    }
   ],
   "source": [
    "q.dequeue()"
   ]
  },
  {
   "cell_type": "code",
   "execution_count": 69,
   "metadata": {},
   "outputs": [
    {
     "data": {
      "text/plain": [
       "True"
      ]
     },
     "execution_count": 69,
     "metadata": {},
     "output_type": "execute_result"
    }
   ],
   "source": [
    "q.is_empty()"
   ]
  },
  {
   "cell_type": "code",
   "execution_count": null,
   "metadata": {},
   "outputs": [],
   "source": []
  }
 ],
 "metadata": {
  "kernelspec": {
   "display_name": "base",
   "language": "python",
   "name": "python3"
  },
  "language_info": {
   "codemirror_mode": {
    "name": "ipython",
    "version": 3
   },
   "file_extension": ".py",
   "mimetype": "text/x-python",
   "name": "python",
   "nbconvert_exporter": "python",
   "pygments_lexer": "ipython3",
   "version": "3.9.13"
  }
 },
 "nbformat": 4,
 "nbformat_minor": 2
}
